{
 "cells": [
  {
   "cell_type": "markdown",
   "metadata": {},
   "source": [
    "# SARSA using Numpy"
   ]
  },
  {
   "cell_type": "code",
   "execution_count": null,
   "metadata": {},
   "outputs": [],
   "source": [
    "import numpy as np\n",
    "import time"
   ]
  },
  {
   "cell_type": "markdown",
   "metadata": {},
   "source": [
    "## Parameters"
   ]
  },
  {
   "cell_type": "code",
   "execution_count": null,
   "metadata": {},
   "outputs": [],
   "source": [
    "N_STATES = 6   # No of States\n",
    "N_ACTIONS = 2  # No of Actions \n",
    "EPSILON = 0.2  # greedy police\n",
    "ALPHA = 0.1     # learning rate\n",
    "GAMMA = 0.9    # discount factor\n",
    "MAX_EPISODES = 10   # maximum episodes"
   ]
  },
  {
   "cell_type": "markdown",
   "metadata": {},
   "source": [
    "## Initialize Q Tables"
   ]
  },
  {
   "cell_type": "code",
   "execution_count": null,
   "metadata": {},
   "outputs": [],
   "source": [
    "Q = np.zeros((N_STATES, N_ACTIONS))\n",
    "print(Q)"
   ]
  },
  {
   "cell_type": "markdown",
   "metadata": {},
   "source": [
    "## Epsilon Greedy Action"
   ]
  },
  {
   "cell_type": "code",
   "execution_count": null,
   "metadata": {},
   "outputs": [],
   "source": [
    "def choose_action(S, Q):\n",
    "    if np.random.random() < EPSILON:\n",
    "        A = np.random.randint(0, N_ACTIONS)\n",
    "    else:\n",
    "        A = np.argmax(Q[S,:])\n",
    "    return A"
   ]
  },
  {
   "cell_type": "markdown",
   "metadata": {},
   "source": [
    "## Env Feedback"
   ]
  },
  {
   "cell_type": "code",
   "execution_count": null,
   "metadata": {},
   "outputs": [],
   "source": [
    "def get_env_feedback(S, A):\n",
    "    if A == 1:  # move right\n",
    "        if S == N_STATES - 2:   \n",
    "            S_ = N_STATES - 1\n",
    "            R = 10\n",
    "        else:\n",
    "            S_ = S + 1\n",
    "            R = 1\n",
    "    else:   # move left\n",
    "        R = -1\n",
    "        if S == 0:\n",
    "            S_ = S  \n",
    "        else:\n",
    "            S_ = S - 1\n",
    "    return S_, R\n"
   ]
  },
  {
   "cell_type": "markdown",
   "metadata": {},
   "source": [
    "## Update Env"
   ]
  },
  {
   "cell_type": "code",
   "execution_count": null,
   "metadata": {},
   "outputs": [],
   "source": [
    "def update_env(S, episode, step_counter):\n",
    "    env_list = ['-']*(N_STATES-1) + ['T']   # '---------T' our environment\n",
    "    if S == N_STATES - 1:\n",
    "        print(' Episode {}: total_steps = {}'.format(episode+1,step_counter))\n",
    "        time.sleep(0.3)\n",
    "    else:\n",
    "        env_list[S] = 'o'\n",
    "        interaction = ''.join(env_list)\n",
    "        print('\\r{}'.format(interaction), end='')\n",
    "        time.sleep(0.3)"
   ]
  },
  {
   "cell_type": "markdown",
   "metadata": {},
   "source": [
    "## Reinforcement Learning using Sarsa to update Q Tables"
   ]
  },
  {
   "cell_type": "code",
   "execution_count": null,
   "metadata": {},
   "outputs": [],
   "source": [
    "for episode in range(MAX_EPISODES):\n",
    "    step_counter = 0\n",
    "    S = 0\n",
    "    is_terminated = False\n",
    "    update_env(S, episode, step_counter)\n",
    "    \n",
    "    A = choose_action(S, Q)\n",
    "    while not is_terminated:\n",
    "        \n",
    "        S_, R = get_env_feedback(S, A)  \n",
    "        A_ = choose_action(S_, Q)\n",
    "  \n",
    "        q_current = Q[S, A]\n",
    "        if S_ != N_STATES-1:\n",
    "            q_target = R + GAMMA*Q[S_, A_] \n",
    "        else:\n",
    "            q_target = R     \n",
    "            is_terminated = True    \n",
    "\n",
    "        Q[S, A] += ALPHA * (q_target - q_current)  \n",
    "        S = S_  \n",
    "        A = A_\n",
    "\n",
    "        update_env(S, episode, step_counter+1)\n",
    "        step_counter += 1"
   ]
  },
  {
   "cell_type": "markdown",
   "metadata": {},
   "source": [
    "## Final Q Tables"
   ]
  },
  {
   "cell_type": "code",
   "execution_count": null,
   "metadata": {},
   "outputs": [],
   "source": [
    "print(Q)"
   ]
  },
  {
   "cell_type": "markdown",
   "metadata": {},
   "source": [
    "## Maximum Q-Value Policy"
   ]
  },
  {
   "cell_type": "code",
   "execution_count": null,
   "metadata": {},
   "outputs": [],
   "source": [
    "S = 0\n",
    "step_counter = 0\n",
    "is_terminated = False\n",
    "while not is_terminated:  \n",
    "    update_env(S, 0, step_counter)\n",
    "    A = np.argmax(Q[S,:])\n",
    "    S_, R = get_env_feedback(S, A)\n",
    "    step_counter += 1\n",
    "    S = S_\n",
    "    if S == N_STATES-1: \n",
    "        is_terminated = True\n",
    "print(' Total steps = ',step_counter)"
   ]
  },
  {
   "cell_type": "markdown",
   "metadata": {},
   "source": [
    "## Policy and Value Function"
   ]
  },
  {
   "cell_type": "code",
   "execution_count": null,
   "metadata": {},
   "outputs": [],
   "source": [
    "policy = {}\n",
    "V = np.zeros(N_STATES)\n",
    "for S in range(N_STATES):\n",
    "    policy[S] = np.argmax(Q[S,:])\n",
    "    V[S] = np.max(Q[S,:])\n",
    "print('policy :', policy)\n",
    "print('value function: ', V)"
   ]
  },
  {
   "cell_type": "code",
   "execution_count": null,
   "metadata": {},
   "outputs": [],
   "source": []
  }
 ],
 "metadata": {
  "kernelspec": {
   "display_name": "Python 3",
   "language": "python",
   "name": "python3"
  },
  "language_info": {
   "codemirror_mode": {
    "name": "ipython",
    "version": 3
   },
   "file_extension": ".py",
   "mimetype": "text/x-python",
   "name": "python",
   "nbconvert_exporter": "python",
   "pygments_lexer": "ipython3",
   "version": "3.6.5"
  }
 },
 "nbformat": 4,
 "nbformat_minor": 2
}
