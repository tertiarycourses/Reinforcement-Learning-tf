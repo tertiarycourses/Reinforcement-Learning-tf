{
 "cells": [
  {
   "cell_type": "markdown",
   "metadata": {},
   "source": [
    "# SARSA using PANDAS"
   ]
  },
  {
   "cell_type": "code",
   "execution_count": null,
   "metadata": {},
   "outputs": [],
   "source": [
    "import numpy as np\n",
    "import pandas as pd\n",
    "import time"
   ]
  },
  {
   "cell_type": "markdown",
   "metadata": {},
   "source": [
    "## Parameters"
   ]
  },
  {
   "cell_type": "code",
   "execution_count": null,
   "metadata": {},
   "outputs": [],
   "source": [
    "np.random.seed(2)  # reproducible\n",
    "\n",
    "N_STATES = 6   # the length of the 1 dimensional world\n",
    "ACTIONS = ['left', 'right']     # available actions\n",
    "EPSILON = 0.2  # greedy police\n",
    "ALPHA = 0.1     # learning rate\n",
    "GAMMA = 0.9    # discount factor\n",
    "MAX_EPISODES = 10   # maximum episodes"
   ]
  },
  {
   "cell_type": "markdown",
   "metadata": {},
   "source": [
    "## Initialize Q Tables"
   ]
  },
  {
   "cell_type": "code",
   "execution_count": null,
   "metadata": {},
   "outputs": [],
   "source": [
    "def build_q_table(n_states, actions):\n",
    "    table = pd.DataFrame(\n",
    "        np.zeros((n_states, len(actions))), \n",
    "        columns=actions,\n",
    "    )\n",
    "    return table"
   ]
  },
  {
   "cell_type": "markdown",
   "metadata": {},
   "source": [
    "## Choose Actions Based On Epsiion Greedy Strategy"
   ]
  },
  {
   "cell_type": "code",
   "execution_count": null,
   "metadata": {},
   "outputs": [],
   "source": [
    "def choose_action(state, q_table):\n",
    "    state_actions = q_table.loc[state, :]\n",
    "    if (np.random.uniform() < EPSILON):  \n",
    "        action_name = np.random.choice(ACTIONS)\n",
    "    else:   \n",
    "        action_name = state_actions.idxmax() \n",
    "    return action_name"
   ]
  },
  {
   "cell_type": "markdown",
   "metadata": {},
   "source": [
    "## Env Feedback"
   ]
  },
  {
   "cell_type": "code",
   "execution_count": null,
   "metadata": {},
   "outputs": [],
   "source": [
    "def get_env_feedback(S, A):\n",
    "    if A == 'right':    \n",
    "        if S == N_STATES - 2:   \n",
    "            S_ = N_STATES - 1\n",
    "            R = 10\n",
    "        else:\n",
    "            S_ = S + 1\n",
    "            R = 1\n",
    "    else:   # move left\n",
    "        R = -1\n",
    "        if S == 0:\n",
    "            S_ = S  \n",
    "        else:\n",
    "            S_ = S - 1\n",
    "    return S_, R\n"
   ]
  },
  {
   "cell_type": "markdown",
   "metadata": {},
   "source": [
    "## Update Env"
   ]
  },
  {
   "cell_type": "code",
   "execution_count": null,
   "metadata": {},
   "outputs": [],
   "source": [
    "def update_env(S, episode, step_counter):\n",
    "    # This is how environment be updated\n",
    "    env_list = ['-']*(N_STATES-1) + ['T']   # '---------T' our environment\n",
    "    if S == N_STATES - 1:\n",
    "        print(' Episode {}: total_steps = {}'.format(episode+1,step_counter))\n",
    "        time.sleep(0.3)\n",
    "    else:\n",
    "        env_list[S] = 'o'\n",
    "        interaction = ''.join(env_list)\n",
    "        print('\\r{}'.format(interaction), end='')\n",
    "        time.sleep(0.3)\n"
   ]
  },
  {
   "cell_type": "markdown",
   "metadata": {},
   "source": [
    "## Update Q Tables "
   ]
  },
  {
   "cell_type": "code",
   "execution_count": null,
   "metadata": {},
   "outputs": [],
   "source": [
    "q_table = build_q_table(N_STATES, ACTIONS)\n",
    "for episode in range(MAX_EPISODES):\n",
    "    step_counter = 0\n",
    "    S = 0\n",
    "    is_terminated = False\n",
    "    update_env(S, episode, step_counter)\n",
    "    \n",
    "    A = choose_action(S, q_table)\n",
    "    while not is_terminated:     \n",
    "        S_, R = get_env_feedback(S, A)  \n",
    "        A_ = choose_action(S_, q_table)\n",
    "        q_current = q_table.loc[S, A]\n",
    "        if S_ != N_STATES-1:\n",
    "            q_target = R + GAMMA * q_table.loc[S_, A_]   \n",
    "        else:\n",
    "            q_target = R     \n",
    "            is_terminated = True   \n",
    "\n",
    "        q_table.loc[S, A] += ALPHA * (q_target - q_current) \n",
    "        S = S_  \n",
    "        A = A_\n",
    "\n",
    "        step_counter += 1\n",
    "        update_env(S, episode, step_counter)\n",
    "       \n",
    "        "
   ]
  },
  {
   "cell_type": "markdown",
   "metadata": {},
   "source": [
    "\n",
    "## Final Q Tables"
   ]
  },
  {
   "cell_type": "code",
   "execution_count": null,
   "metadata": {},
   "outputs": [],
   "source": [
    "print(q_table)"
   ]
  },
  {
   "cell_type": "markdown",
   "metadata": {},
   "source": [
    "## Maximum Q-Value Policy"
   ]
  },
  {
   "cell_type": "code",
   "execution_count": null,
   "metadata": {},
   "outputs": [],
   "source": [
    "def choose_action_optimal(state, q_table):\n",
    "    state_actions = q_table.loc[state, :]\n",
    "    action_name = state_actions.idxmax() #idxmax is argmax in pandas\n",
    "    return action_name\n",
    "\n",
    "S = 0\n",
    "step_counter = 0\n",
    "is_terminated = False\n",
    "while not is_terminated:  \n",
    "    update_env(S, 0, step_counter)\n",
    "    A = choose_action_optimal(S, q_table)\n",
    "    S_, R = get_env_feedback(S, A)\n",
    "    step_counter += 1\n",
    "    S = S_\n",
    "    if S == N_STATES-1: \n",
    "        is_terminated = True\n",
    "print(' Total steps = ',step_counter)"
   ]
  },
  {
   "cell_type": "code",
   "execution_count": null,
   "metadata": {},
   "outputs": [],
   "source": []
  }
 ],
 "metadata": {
  "kernelspec": {
   "display_name": "Python 3",
   "language": "python",
   "name": "python3"
  },
  "language_info": {
   "codemirror_mode": {
    "name": "ipython",
    "version": 3
   },
   "file_extension": ".py",
   "mimetype": "text/x-python",
   "name": "python",
   "nbconvert_exporter": "python",
   "pygments_lexer": "ipython3",
   "version": "3.6.5"
  }
 },
 "nbformat": 4,
 "nbformat_minor": 2
}
