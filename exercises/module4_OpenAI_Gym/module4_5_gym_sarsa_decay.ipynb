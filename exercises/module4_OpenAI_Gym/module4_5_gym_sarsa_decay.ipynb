{
 "cells": [
  {
   "cell_type": "markdown",
   "metadata": {},
   "source": [
    "# Sarsa on Gym "
   ]
  },
  {
   "cell_type": "code",
   "execution_count": null,
   "metadata": {},
   "outputs": [],
   "source": [
    "import numpy as np\n",
    "import gym\n",
    "from IPython.display import clear_output\n",
    "import time"
   ]
  },
  {
   "cell_type": "markdown",
   "metadata": {},
   "source": [
    "## Parameters"
   ]
  },
  {
   "cell_type": "code",
   "execution_count": null,
   "metadata": {},
   "outputs": [],
   "source": [
    "lr = 0.33\n",
    "lrMin = 0.001\n",
    "lrDecay = 0.9999\n",
    "gamma = 1.0\n",
    "epsilon = 1.0\n",
    "epsilonMin = 0.001\n",
    "epsilonDecay = 0.97\n",
    "episodes = 2000"
   ]
  },
  {
   "cell_type": "markdown",
   "metadata": {},
   "source": [
    "## Setup Gym Env"
   ]
  },
  {
   "cell_type": "code",
   "execution_count": null,
   "metadata": {},
   "outputs": [],
   "source": [
    "env = gym.make('FrozenLake-v0')"
   ]
  },
  {
   "cell_type": "markdown",
   "metadata": {},
   "source": [
    "## Initialize Q Tables"
   ]
  },
  {
   "cell_type": "code",
   "execution_count": null,
   "metadata": {},
   "outputs": [],
   "source": [
    "Q = np.zeros((env.observation_space.n, env.action_space.n))\n",
    "print(Q)"
   ]
  },
  {
   "cell_type": "markdown",
   "metadata": {},
   "source": [
    "## Sarsa Learning"
   ]
  },
  {
   "cell_type": "code",
   "execution_count": null,
   "metadata": {},
   "outputs": [],
   "source": [
    "def choose_action(s, Q):\n",
    "    if np.random.random() < epsilon:\n",
    "        a = np.random.randint(0, env.action_space.n)\n",
    "    else:\n",
    "        a = np.argmax(Q[s,:])\n",
    "    return a"
   ]
  },
  {
   "cell_type": "code",
   "execution_count": null,
   "metadata": {},
   "outputs": [],
   "source": [
    "for i in range(episodes):\n",
    "    print(\"Episode {}/{}\".format(i + 1, episodes))\n",
    "    s = env.reset()\n",
    "    done = False\n",
    "    \n",
    "    a = choose_action(s, Q)\n",
    "    while not done:\n",
    "        s_, r, done, _ = env.step(a)\n",
    "        a_ = choose_action(s_, Q)\n",
    "        Q[s,a] = Q[s,a] + lr*(r+gamma*(Q[s_,a_]) - Q[s,a])\n",
    "        s = s_\n",
    "        a = a_\n",
    "        \n",
    "        if lr > lrMin:\n",
    "            lr *= lrDecay\n",
    "\n",
    "        if not r==0 and epsilon > epsilonMin:\n",
    "            epsilon *= epsilonDecay"
   ]
  },
  {
   "cell_type": "markdown",
   "metadata": {},
   "source": [
    "## Final Q Tables"
   ]
  },
  {
   "cell_type": "code",
   "execution_count": null,
   "metadata": {},
   "outputs": [],
   "source": [
    "print(Q)"
   ]
  },
  {
   "cell_type": "markdown",
   "metadata": {},
   "source": [
    "## Testing"
   ]
  },
  {
   "cell_type": "code",
   "execution_count": null,
   "metadata": {},
   "outputs": [],
   "source": [
    "s = env.reset()\n",
    "done = False\n",
    "step_count = 0\n",
    "\n",
    "while not done:\n",
    "    clear_output(wait=True)\n",
    "    env.render()\n",
    "    a = np.argmax(Q[s,:])\n",
    "    newS, r, done, _ = env.step(a)\n",
    "    s = newS\n",
    "    step_count += 1\n",
    "    time.sleep(0.1)\n",
    "\n",
    "print(\"Total steps: \",step_count)"
   ]
  },
  {
   "cell_type": "code",
   "execution_count": null,
   "metadata": {},
   "outputs": [],
   "source": []
  }
 ],
 "metadata": {
  "kernelspec": {
   "display_name": "Python 3",
   "language": "python",
   "name": "python3"
  },
  "language_info": {
   "codemirror_mode": {
    "name": "ipython",
    "version": 3
   },
   "file_extension": ".py",
   "mimetype": "text/x-python",
   "name": "python",
   "nbconvert_exporter": "python",
   "pygments_lexer": "ipython3",
   "version": "3.6.5"
  }
 },
 "nbformat": 4,
 "nbformat_minor": 2
}
