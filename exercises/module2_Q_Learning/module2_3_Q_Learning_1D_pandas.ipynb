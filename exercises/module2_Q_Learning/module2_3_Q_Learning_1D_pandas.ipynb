{
 "cells": [
  {
   "cell_type": "markdown",
   "metadata": {},
   "source": [
    "# Q Learning"
   ]
  },
  {
   "cell_type": "code",
   "execution_count": null,
   "metadata": {},
   "outputs": [],
   "source": [
    "import numpy as np\n",
    "import pandas as pd\n",
    "import time"
   ]
  },
  {
   "cell_type": "markdown",
   "metadata": {},
   "source": [
    "## Parameters"
   ]
  },
  {
   "cell_type": "code",
   "execution_count": 2,
   "metadata": {},
   "outputs": [],
   "source": [
    "np.random.seed(2)  # reproducible\n",
    "\n",
    "N_STATES = 6   # the length of the 1 dimensional world\n",
    "ACTIONS = ['left', 'right']     # available actions\n",
    "EPSILON = 0.2  # greedy police\n",
    "ALPHA = 0.1     # learning rate\n",
    "GAMMA = 0.9    # discount factor\n",
    "MAX_EPISODES = 10   # maximum episodes"
   ]
  },
  {
   "cell_type": "markdown",
   "metadata": {},
   "source": [
    "## Initialize Q Tables"
   ]
  },
  {
   "cell_type": "code",
   "execution_count": 3,
   "metadata": {},
   "outputs": [],
   "source": [
    "def build_q_table(n_states, actions):\n",
    "    table = pd.DataFrame(\n",
    "        np.zeros((n_states, len(actions))), \n",
    "        columns=actions,\n",
    "    )\n",
    "    return table"
   ]
  },
  {
   "cell_type": "markdown",
   "metadata": {},
   "source": [
    "## Choose Actions Based On Epsiion Greedy Strategy"
   ]
  },
  {
   "cell_type": "code",
   "execution_count": 4,
   "metadata": {},
   "outputs": [],
   "source": [
    "def choose_action(state, q_table):\n",
    "    state_actions = q_table.loc[state, :]\n",
    "    if (np.random.uniform() < EPSILON):  \n",
    "        action_name = np.random.choice(ACTIONS)\n",
    "    else:   \n",
    "        action_name = state_actions.idxmax() \n",
    "    return action_name"
   ]
  },
  {
   "cell_type": "markdown",
   "metadata": {},
   "source": [
    "## Env Feedback"
   ]
  },
  {
   "cell_type": "code",
   "execution_count": 5,
   "metadata": {},
   "outputs": [],
   "source": [
    "def get_env_feedback(S, A):\n",
    "    if A == 'right':    \n",
    "        if S == N_STATES - 2:   \n",
    "            S_ = N_STATES - 1\n",
    "            R = 10\n",
    "        else:\n",
    "            S_ = S + 1\n",
    "            R = 1\n",
    "    else:   # move left\n",
    "        R = -1\n",
    "        if S == 0:\n",
    "            S_ = S  \n",
    "        else:\n",
    "            S_ = S - 1\n",
    "    return S_, R\n"
   ]
  },
  {
   "cell_type": "markdown",
   "metadata": {},
   "source": [
    "## Update Env"
   ]
  },
  {
   "cell_type": "code",
   "execution_count": 6,
   "metadata": {},
   "outputs": [],
   "source": [
    "def update_env(S, episode, step_counter):\n",
    "    env_list = ['-']*(N_STATES-1) + ['T']   # '---------T' our environment\n",
    "    if S == N_STATES - 1:\n",
    "        print(' Episode {}: total_steps = {}'.format(episode+1,step_counter))\n",
    "        time.sleep(0.3)\n",
    "    else:\n",
    "        env_list[S] = 'o'\n",
    "        interaction = ''.join(env_list)\n",
    "        print('\\r{}'.format(interaction), end='')\n",
    "        time.sleep(0.3)"
   ]
  },
  {
   "cell_type": "markdown",
   "metadata": {},
   "source": [
    "## Update Q Tables"
   ]
  },
  {
   "cell_type": "code",
   "execution_count": 7,
   "metadata": {},
   "outputs": [
    {
     "name": "stdout",
     "output_type": "stream",
     "text": [
      "----oT Episode 1: total_steps = 17\n",
      "----oT Episode 2: total_steps = 12\n",
      "----oT Episode 3: total_steps = 5\n",
      "----oT Episode 4: total_steps = 6\n",
      "----oT Episode 5: total_steps = 5\n",
      "----oT Episode 6: total_steps = 5\n",
      "----oT Episode 7: total_steps = 5\n",
      "----oT Episode 8: total_steps = 5\n",
      "----oT Episode 9: total_steps = 5\n",
      "----oT Episode 10: total_steps = 5\n"
     ]
    }
   ],
   "source": [
    "q_table = build_q_table(N_STATES, ACTIONS)\n",
    "for episode in range(MAX_EPISODES):\n",
    "    step_counter = 0\n",
    "    S = 0\n",
    "    is_terminated = False\n",
    "    update_env(S, episode, step_counter)\n",
    "    while not is_terminated:\n",
    "\n",
    "        A = choose_action(S, q_table)\n",
    "        S_, R = get_env_feedback(S, A)  \n",
    "        q_current = q_table.loc[S, A]\n",
    "        if S_ != N_STATES-1:\n",
    "            q_target = R + GAMMA * q_table.loc[S_, :].max()\n",
    "        else:\n",
    "            q_target = R     \n",
    "            is_terminated = True    \n",
    "\n",
    "        q_table.loc[S, A] += ALPHA * (q_target - q_current)  \n",
    "        S = S_  \n",
    "\n",
    "        update_env(S, episode, step_counter+1)\n",
    "        step_counter += 1"
   ]
  },
  {
   "cell_type": "markdown",
   "metadata": {},
   "source": [
    "## Final Q Tables"
   ]
  },
  {
   "cell_type": "code",
   "execution_count": null,
   "metadata": {},
   "outputs": [],
   "source": [
    "print(q_table)"
   ]
  },
  {
   "cell_type": "markdown",
   "metadata": {},
   "source": [
    "## Maximum Q-Value Policy"
   ]
  },
  {
   "cell_type": "code",
   "execution_count": null,
   "metadata": {},
   "outputs": [],
   "source": [
    "def choose_action_optimal(state, q_table):\n",
    "    state_actions = q_table.loc[state, :]\n",
    "    action_name = state_actions.idxmax() #idxmax is argmax in pandas\n",
    "    return action_name\n",
    "\n",
    "S = 0\n",
    "step_counter = 0\n",
    "is_terminated = False\n",
    "while not is_terminated:  \n",
    "    update_env(S, 0, step_counter)\n",
    "    A = choose_action_optimal(S, q_table)\n",
    "    S_, R = get_env_feedback(S, A)\n",
    "    step_counter += 1\n",
    "    S = S_\n",
    "    if S == N_STATES-1: \n",
    "        is_terminated = True\n",
    "print(' Total steps = ',step_counter)"
   ]
  },
  {
   "cell_type": "code",
   "execution_count": null,
   "metadata": {},
   "outputs": [],
   "source": [
    "policy = {}\n",
    "  V = {}\n",
    "  for s in grid.actions.keys():\n",
    "    a, max_q = max_dict(Q[s])\n",
    "    policy[s] = a\n",
    "    V[s] = max_q\n"
   ]
  }
 ],
 "metadata": {
  "kernelspec": {
   "display_name": "Python 3",
   "language": "python",
   "name": "python3"
  },
  "language_info": {
   "codemirror_mode": {
    "name": "ipython",
    "version": 3
   },
   "file_extension": ".py",
   "mimetype": "text/x-python",
   "name": "python",
   "nbconvert_exporter": "python",
   "pygments_lexer": "ipython3",
   "version": "3.6.5"
  }
 },
 "nbformat": 4,
 "nbformat_minor": 2
}
